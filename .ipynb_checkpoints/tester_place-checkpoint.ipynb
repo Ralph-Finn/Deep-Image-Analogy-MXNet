{
 "cells": [
  {
   "cell_type": "code",
   "execution_count": null,
   "metadata": {
    "collapsed": true
   },
   "outputs": [],
   "source": [
    "import VGG19\n",
    "from importlib import reload\n",
    "import matplotlib.pyplot as plt\n",
    "# from PatchMatchMxnet import init_nnf, upSample_nnf, avg_vote, propagate, reconstruct_avg,tran_shape\n",
    "import mxnet as mx\n",
    "import copy\n",
    "from utils import *\n",
    "import numpy as np\n",
    "%matplotlib inline\n",
    "# reload(VGG19)\n",
    "# model = VGG19.VGG19()"
   ]
  },
  {
   "cell_type": "code",
   "execution_count": null,
   "metadata": {},
   "outputs": [],
   "source": [
    "img_A = load_image(\"./data/ava.jpg\", 0.5)\n",
    "img_BP = load_image(\"./data/mona.jpg\", 0.5)\n",
    "plt.subplot(1, 2, 1)\n",
    "plt.imshow(img_A[:, :, (2, 1, 0)])\n",
    "plt.subplot(1, 2, 2)\n",
    "plt.imshow(img_BP[:, :, (2, 1, 0)])\n",
    "plt.show()\n",
    "# mxnet 中使用的图片数据的格式应该与opencv中还是类似的"
   ]
  },
  {
   "cell_type": "code",
   "execution_count": null,
   "metadata": {},
   "outputs": [],
   "source": [
    "params = {\n",
    "        'layers': [29, 20, 11, 6, 1],\n",
    "        'iter': 10,\n",
    "    }\n",
    "rangee = [32, 6, 6, 4, 4, 2]\n",
    "sizes = [3, 3, 3, 5, 5, 3]\n",
    "lr = [0.1, 0.005, 0.005, 0.00005]\n",
    "weights= [1.0, 0.8, 0.7, 0.6, 0.1, 0.0]\n",
    "data_A,data_A_size = model.get_features(img_tensor=img_A, layers=params['layers'])\n",
    "data_B,data_B_size = model.get_features(img_tensor=img_BP, layers=params['layers'])\n",
    "for layer_size in data_A_size:\n",
    "    print(\"size_idx:\", layer_size)"
   ]
  },
  {
   "cell_type": "code",
   "execution_count": null,
   "metadata": {
    "collapsed": true
   },
   "outputs": [],
   "source": [
    "data_AP = copy.deepcopy(data_A)  # 若data_A 已经是GPU上的数组，那么data_A经过deepcopy之后得到的依旧在GPU上"
   ]
  },
  {
   "cell_type": "code",
   "execution_count": null,
   "metadata": {},
   "outputs": [],
   "source": [
    "curr_layer = 0\n",
    "ctx = mx.gpu(0)\n",
    "ann_AB = init_nnf(data_A_size[curr_layer][2:], data_A_size[curr_layer][2:])     # type == array"
   ]
  },
  {
   "cell_type": "code",
   "execution_count": null,
   "metadata": {
    "collapsed": true
   },
   "outputs": [],
   "source": [
    "next_layer = curr_layer + 2\n",
    "ann_AB_upnnf2 = upSample_nnf(ann_AB, data_A_size[next_layer][2:])"
   ]
  },
  {
   "cell_type": "code",
   "execution_count": null,
   "metadata": {
    "collapsed": true,
    "scrolled": true
   },
   "outputs": [],
   "source": [
    "target_BP_np = avg_vote(ann_AB, data_A[curr_layer], sizes[curr_layer], data_A_size[curr_layer][2:],\n",
    "                                data_A_size[curr_layer][2:])"
   ]
  },
  {
   "cell_type": "code",
   "execution_count": null,
   "metadata": {
    "collapsed": true
   },
   "outputs": [],
   "source": []
  },
  {
   "cell_type": "code",
   "execution_count": null,
   "metadata": {},
   "outputs": [],
   "source": [
    "Ndata_A, response_A = normalize(data_A[curr_layer])\n",
    "Ndata_B, response_B= normalize(data_B[curr_layer])\n",
    "ann_AB, _ = propagate(ann_AB, Ndata_A, Ndata_A, Ndata_B, Ndata_B,\n",
    "                              sizes[curr_layer],\n",
    "                              params['iter'], rangee[curr_layer])\n",
    "ann_AB"
   ]
  },
  {
   "cell_type": "code",
   "execution_count": null,
   "metadata": {
    "collapsed": true
   },
   "outputs": [],
   "source": []
  },
  {
   "cell_type": "code",
   "execution_count": null,
   "metadata": {
    "collapsed": true
   },
   "outputs": [],
   "source": []
  },
  {
   "cell_type": "code",
   "execution_count": null,
   "metadata": {
    "collapsed": true
   },
   "outputs": [],
   "source": [
    "ann_AB_upnnf2 = upSample_nnf(ann_AB, data_A_size[next_layer][2:])"
   ]
  },
  {
   "cell_type": "code",
   "execution_count": null,
   "metadata": {},
   "outputs": [],
   "source": [
    "data_AP[curr_layer] = blend(response_A, data_A[curr_layer], data_AP[curr_layer], weights[curr_layer])\n",
    "data_B_np = avg_vote(ann_AB_upnnf2, ts2np(data_A[next_layer]), sizes[next_layer], data_A_size[next_layer][2:],\n",
    "                         data_A_size[next_layer][2:])\n",
    "print(data_B_np.shape)"
   ]
  },
  {
   "cell_type": "code",
   "execution_count": null,
   "metadata": {
    "collapsed": true
   },
   "outputs": [],
   "source": [
    "target_BP_np = avg_vote(ann_AB, ts2np(data_A[curr_layer]), sizes[curr_layer], data_A_size[curr_layer][2:],\n",
    "                                data_A_size[curr_layer][2:])\n",
    "print(target_BP_np.shape)\n",
    "print(ann_AB.shape)"
   ]
  },
  {
   "cell_type": "code",
   "execution_count": null,
   "metadata": {
    "collapsed": true
   },
   "outputs": [],
   "source": [
    "data_AP[curr_layer + 1] = model.get_deconvoluted_feat(target_BP_np, curr_layer, data_AP[next_layer],\n",
    "                                                              lr=lr[curr_layer],\n",
    "                                                              iters=400, display=False)"
   ]
  },
  {
   "cell_type": "code",
   "execution_count": null,
   "metadata": {
    "collapsed": true
   },
   "outputs": [],
   "source": [
    "from mxnet import nd\n",
    "import numpy as np"
   ]
  },
  {
   "cell_type": "code",
   "execution_count": null,
   "metadata": {},
   "outputs": [],
   "source": [
    "A=  nd.array([1,2,3,4,5])\n",
    "print(A.clip(3,5))"
   ]
  },
  {
   "cell_type": "code",
   "execution_count": null,
   "metadata": {
    "collapsed": true
   },
   "outputs": [],
   "source": [
    "from mxnet import optimizer"
   ]
  },
  {
   "cell_type": "code",
   "execution_count": null,
   "metadata": {},
   "outputs": [],
   "source": [
    "optimizer.Adam(A,1)"
   ]
  },
  {
   "cell_type": "code",
   "execution_count": null,
   "metadata": {},
   "outputs": [],
   "source": [
    "A = [1,2,3,4,5]\n",
    "plt.plot(A)"
   ]
  },
  {
   "cell_type": "code",
   "execution_count": null,
   "metadata": {
    "collapsed": true
   },
   "outputs": [],
   "source": [
    "import cv2\n",
    "import matplotlib.pyplot as plt\n",
    "%matplotlib inline\n",
    "import numpy as np\n",
    "Img = cv2.imread(\"./results/good_one.png\")[:, :, (2, 1, 0)]/255.0\n",
    "Img = Img.astype(np.float32)"
   ]
  },
  {
   "cell_type": "code",
   "execution_count": null,
   "metadata": {},
   "outputs": [],
   "source": [
    "plt.figure(figsize=(100,100)) \n",
    "plt.imshow(Img)"
   ]
  },
  {
   "cell_type": "code",
   "execution_count": null,
   "metadata": {
    "collapsed": true
   },
   "outputs": [],
   "source": [
    "blur = cv2.bilateralFilter(Img,3,15,15)"
   ]
  },
  {
   "cell_type": "code",
   "execution_count": null,
   "metadata": {},
   "outputs": [],
   "source": [
    "plt.figure(figsize=(100,100)) \n",
    "plt.imshow(blur)"
   ]
  },
  {
   "cell_type": "code",
   "execution_count": null,
   "metadata": {
    "collapsed": true
   },
   "outputs": [],
   "source": []
  },
  {
   "cell_type": "code",
   "execution_count": null,
   "metadata": {},
   "outputs": [],
   "source": [
    "from main import *\n",
    "config = get_config(\"data/2/1.jpg\", \"data/2/2.jpg\", 2)\n",
    "# load images\n",
    "img_A = load_image(config['img_A_path'])\n",
    "img_BP = load_image(config['img_BP_path'])\n",
    "plt.figure(figsize=(10,10)) \n",
    "output_img(img_A[:, :, (2, 1, 0)], img_BP[:, :, (2, 1, 0)])\n",
    "# # Deep-Image-Analogy\n",
    "tic = time()\n",
    "img_AP, img_B = analogy(img_A, img_BP, config)\n",
    "print(\"all_analogy_time_is:{}\".format(time() - tic))"
   ]
  },
  {
   "cell_type": "code",
   "execution_count": null,
   "metadata": {
    "collapsed": true
   },
   "outputs": [],
   "source": []
  },
  {
   "cell_type": "code",
   "execution_count": null,
   "metadata": {},
   "outputs": [],
   "source": [
    "i"
   ]
  },
  {
   "cell_type": "code",
   "execution_count": null,
   "metadata": {},
   "outputs": [],
   "source": [
    "plt.figure(figsize=(20,20)) \n",
    "output_img(img_AP, img_B)"
   ]
  },
  {
   "cell_type": "code",
   "execution_count": null,
   "metadata": {},
   "outputs": [],
   "source": [
    "for i in range(6):\n",
    "    print(i)"
   ]
  },
  {
   "cell_type": "code",
   "execution_count": null,
   "metadata": {
    "collapsed": true
   },
   "outputs": [],
   "source": []
  }
 ],
 "metadata": {
  "kernelspec": {
   "display_name": "Python 3",
   "language": "python",
   "name": "python3"
  },
  "language_info": {
   "codemirror_mode": {
    "name": "ipython",
    "version": 3
   },
   "file_extension": ".py",
   "mimetype": "text/x-python",
   "name": "python",
   "nbconvert_exporter": "python",
   "pygments_lexer": "ipython3",
   "version": "3.6.2"
  }
 },
 "nbformat": 4,
 "nbformat_minor": 2
}
